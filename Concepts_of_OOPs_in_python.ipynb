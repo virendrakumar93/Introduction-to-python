{
  "nbformat": 4,
  "nbformat_minor": 0,
  "metadata": {
    "colab": {
      "provenance": [],
      "authorship_tag": "ABX9TyP6ze2zka8vsfLWQrhS4ffP",
      "include_colab_link": true
    },
    "kernelspec": {
      "name": "python3",
      "display_name": "Python 3"
    },
    "language_info": {
      "name": "python"
    }
  },
  "cells": [
    {
      "cell_type": "markdown",
      "metadata": {
        "id": "view-in-github",
        "colab_type": "text"
      },
      "source": [
        "<a href=\"https://colab.research.google.com/github/virendrakumar93/Introduction-to-python/blob/main/Concepts_of_OOPs_in_python.ipynb\" target=\"_parent\"><img src=\"https://colab.research.google.com/assets/colab-badge.svg\" alt=\"Open In Colab\"/></a>"
      ]
    },
    {
      "cell_type": "code",
      "execution_count": null,
      "metadata": {
        "id": "bf3WTpAhIklA"
      },
      "outputs": [],
      "source": []
    },
    {
      "cell_type": "markdown",
      "source": [
        "Problem Statement:\n",
        "You work in XYZ Corporation as a Data Analyst. Your corporation has told you to\n",
        "work on functions and classes.\n",
        "Tasks To Be Performed:\n",
        "1. Create a function named ‘factor’ that can only accept 1 argument. The\n",
        "function should return the factorial of that number."
      ],
      "metadata": {
        "id": "hY5ccqA_Iu8X"
      }
    },
    {
      "cell_type": "code",
      "source": [
        "  def factor(n):\n",
        "    \"\"\"\n",
        "    This function calculates the factorial of a given number.\n",
        "\n",
        "    Args:\n",
        "    n (int): The number to calculate the factorial for.\n",
        "\n",
        "    Returns:\n",
        "    int: The factorial of the given number.\n",
        "    \"\"\"\n",
        "    if not isinstance(n, int) or n < 0:\n",
        "        raise ValueError(\"The input must be a non-negative integer.\")\n",
        "\n",
        "    if n == 0 or n == 1:\n",
        "        return 1\n",
        "    else:\n",
        "        result = 1\n",
        "        for i in range(2, n + 1):\n",
        "            result *= i\n",
        "        return result\n",
        "\n",
        "# Example usage\n",
        "try:\n",
        "    num = int(input(\"Enter a number to calculate its factorial: \"))\n",
        "    print(f\"The factorial of {num} is {factor(num)}.\")\n",
        "except ValueError as e:\n",
        "    print(e)\n"
      ],
      "metadata": {
        "colab": {
          "base_uri": "https://localhost:8080/"
        },
        "id": "ySajU9I_Ix_h",
        "outputId": "03005ebb-13fb-4a10-a080-9580dc257e84"
      },
      "execution_count": 1,
      "outputs": [
        {
          "output_type": "stream",
          "name": "stdout",
          "text": [
            "Enter a number to calculate its factorial: 5\n",
            "The factorial of 5 is 120.\n"
          ]
        }
      ]
    },
    {
      "cell_type": "markdown",
      "source": [
        "2. Create a function named ‘check_string’, the function should accept a string\n",
        "data from the user and the function should check if the user input contains\n",
        "the letter ‘s’ in it. If it contains the letter ‘s’ then print- ‘The string is\n",
        "containing."
      ],
      "metadata": {
        "id": "D38q_An4hH_m"
      }
    },
    {
      "cell_type": "code",
      "source": [
        "def check_string(user_input):\n",
        "    \"\"\"\n",
        "    This function checks if the input string contains the letter 's'.\n",
        "\n",
        "    Args:\n",
        "    user_input (str): The string input provided by the user.\n",
        "\n",
        "    Returns:\n",
        "    None\n",
        "    \"\"\"\n",
        "    if not isinstance(user_input, str):\n",
        "        raise ValueError(\"Input must be a string.\")\n",
        "\n",
        "    if 's' in user_input or 'S' in user_input:  # Case-insensitive check for 's'\n",
        "        print(\"The string is containing the letter 's'.\")\n",
        "    else:\n",
        "        print(\"The string does not contain the letter 's'.\")\n",
        "\n",
        "# Example usage\n",
        "user_input = input(\"Enter a string: \")\n",
        "check_string(user_input)\n"
      ],
      "metadata": {
        "colab": {
          "base_uri": "https://localhost:8080/"
        },
        "id": "VFCaixDqdm7g",
        "outputId": "78186a47-1da0-4534-9a33-fbdd322437a1"
      },
      "execution_count": 2,
      "outputs": [
        {
          "output_type": "stream",
          "name": "stdout",
          "text": [
            "Enter a string: dears\n",
            "The string is containing the letter 's'.\n"
          ]
        }
      ]
    },
    {
      "cell_type": "markdown",
      "source": [
        "3. Create a class named ‘student’ and inside the class, create a function\n",
        "named ‘fun1’- this method should accept the user defined input and return\n",
        "that value:\n",
        "a. Create another method named- message() and that method should print\n",
        "the user defined input that we have defined in ‘fun1’."
      ],
      "metadata": {
        "id": "rja2rmhWkmwM"
      }
    },
    {
      "cell_type": "code",
      "source": [
        "  class student:\n",
        "    def fun1(self):\n",
        "        \"\"\"\n",
        "        This method accepts user defined input and returns that value.\n",
        "        \"\"\"\n",
        "        user_input = input(\"Enter your input: \")\n",
        "        return user_input\n",
        "\n",
        "    def message(self):\n",
        "        \"\"\"\n",
        "        This method prints the user defined input that we have defined in 'fun1'.\n",
        "        \"\"\"\n",
        "        user_input = self.fun1()\n",
        "        print(\"The user defined input is:\", user_input)\n",
        "\n",
        "viren = student()\n",
        "viren.message()\n"
      ],
      "metadata": {
        "colab": {
          "base_uri": "https://localhost:8080/"
        },
        "id": "BzjxlqyPkbWC",
        "outputId": "ee7cea19-f15b-4dc5-b105-aa32ce738a68"
      },
      "execution_count": 7,
      "outputs": [
        {
          "output_type": "stream",
          "name": "stdout",
          "text": [
            "Enter your input: hello!\n",
            "The user defined input is: hello!\n"
          ]
        }
      ]
    },
    {
      "cell_type": "markdown",
      "source": [
        "Create a lambda function that should double or multiply the number (that\n",
        "we will be passing in the lambda function) by 2. Store the lambda function\n",
        "in a variable named ‘double_num’."
      ],
      "metadata": {
        "id": "Xiuh8t9cmRSw"
      }
    },
    {
      "cell_type": "code",
      "source": [
        "  double_num = lambda x: x * 2\n",
        "\n",
        "# Example usage\n",
        "num = int(input(\"Enter a number: \"))\n",
        "result = double_num(num)\n",
        "print(f\"The result of doubling {num} is {result}.\")"
      ],
      "metadata": {
        "colab": {
          "base_uri": "https://localhost:8080/"
        },
        "id": "u3T3dwivlh4y",
        "outputId": "fb4e3ee3-d396-4ff9-e91a-174ca2dbc6b6"
      },
      "execution_count": 8,
      "outputs": [
        {
          "output_type": "stream",
          "name": "stdout",
          "text": [
            "Enter a number: 25\n",
            "The result of doubling 25 is 50.\n"
          ]
        }
      ]
    },
    {
      "cell_type": "markdown",
      "source": [
        "5. Take user input string and check whether that string is palindrome or not."
      ],
      "metadata": {
        "id": "0bABv-40m1bu"
      }
    },
    {
      "cell_type": "code",
      "source": [
        "  string = input(\"Enter a string: \")\n",
        "if string == string[::-1]:\n",
        "    print(\"The string is a palindrome.\")\n",
        "else:\n",
        "    print(\"The string is not a palindrome.\")"
      ],
      "metadata": {
        "colab": {
          "base_uri": "https://localhost:8080/"
        },
        "id": "3M2NShuLmy5F",
        "outputId": "4ec3d49b-d073-4c3b-ad44-00ae8f85545a"
      },
      "execution_count": 9,
      "outputs": [
        {
          "output_type": "stream",
          "name": "stdout",
          "text": [
            "Enter a string: check\n",
            "The string is not a palindrome.\n"
          ]
        }
      ]
    },
    {
      "cell_type": "markdown",
      "source": [],
      "metadata": {
        "id": "tTc9KgqPxHTX"
      }
    },
    {
      "cell_type": "code",
      "source": [],
      "metadata": {
        "id": "p6nrVePOw7SP"
      },
      "execution_count": null,
      "outputs": []
    }
  ]
}