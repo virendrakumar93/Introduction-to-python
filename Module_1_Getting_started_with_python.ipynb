{
  "nbformat": 4,
  "nbformat_minor": 0,
  "metadata": {
    "colab": {
      "provenance": [],
      "authorship_tag": "ABX9TyM2cSjXfnDtIwjJfV6CK1oq",
      "include_colab_link": true
    },
    "kernelspec": {
      "name": "python3",
      "display_name": "Python 3"
    },
    "language_info": {
      "name": "python"
    }
  },
  "cells": [
    {
      "cell_type": "markdown",
      "metadata": {
        "id": "view-in-github",
        "colab_type": "text"
      },
      "source": [
        "<a href=\"https://colab.research.google.com/github/virendrakumar93/Introduction-to-python/blob/main/Module_1_Getting_started_with_python.ipynb\" target=\"_parent\"><img src=\"https://colab.research.google.com/assets/colab-badge.svg\" alt=\"Open In Colab\"/></a>"
      ]
    },
    {
      "cell_type": "markdown",
      "source": [
        "Problem Statement:\n",
        "You work in XYZ Corporation as a Data Analyst. Your company has told you to\n",
        "work with the if-else condition.\n",
        "Tasks To Be Performed:\n",
        "1. Input the values of a and b as 10 and 20 respectively. Now check if a is\n",
        "greater or b is greater using if condition. Think about all the edge cases,\n",
        "and print the statements accordingly."
      ],
      "metadata": {
        "id": "mRbcwkCR_lJv"
      }
    },
    {
      "cell_type": "code",
      "source": [
        "  a=10\n",
        "  b=20\n",
        "  if a>b:\n",
        "    print(\"a is greater than b\")\n",
        "  else:\n",
        "    print(\"b is greater than a\")\n",
        "\n"
      ],
      "metadata": {
        "colab": {
          "base_uri": "https://localhost:8080/"
        },
        "id": "8mhIww9r_wE2",
        "outputId": "26d04f4b-f1c4-4f1e-8b3b-e1807eecf2ef"
      },
      "execution_count": 1,
      "outputs": [
        {
          "output_type": "stream",
          "name": "stdout",
          "text": [
            "b is greater than a\n"
          ]
        }
      ]
    },
    {
      "cell_type": "markdown",
      "source": [
        "Problem Statement:\n",
        "You work in XYZ Corporation as a Data Analyst. Your company has told you to\n",
        "work with the if-else condition.\n",
        "Tasks To Be Performed:\n",
        "1. Take three user inputs and print the greatest number from those inputs\n",
        "using if-else condition. Edge cases, if any, should also be handled"
      ],
      "metadata": {
        "id": "JvBB3X93APsm"
      }
    },
    {
      "cell_type": "code",
      "source": [
        "  a=int(input(\"enter the first number\"))\n",
        "  b=int(input(\"enter the second number\"))\n",
        "  c=int(input(\"enter the third number\"))\n",
        "  if a>b and a>c:\n",
        "    print(\"a is the greatest number\")\n",
        "  elif b>a and b>c:\n",
        "    print(\"b is the greatest number\")\n",
        "  else:\n",
        "    print(\"c is the greatest number\")"
      ],
      "metadata": {
        "colab": {
          "base_uri": "https://localhost:8080/"
        },
        "id": "AakwFLX2AFNb",
        "outputId": "5787a107-3df3-4dd2-d151-c073eb0359cb"
      },
      "execution_count": 2,
      "outputs": [
        {
          "output_type": "stream",
          "name": "stdout",
          "text": [
            "enter the first number4\n",
            "enter the second number6\n",
            "enter the third number9\n",
            "c is the greatest number\n"
          ]
        }
      ]
    },
    {
      "cell_type": "markdown",
      "source": [
        "Problem Statement:\n",
        "You work in XYZ Corporation as a Data Analyst. Your company has told you to\n",
        "work with the looping statements.\n",
        "Tasks To Be Performed:\n",
        "1. Print the numbers from 1 to 10 using while loop."
      ],
      "metadata": {
        "id": "xjHx7Z03AuPn"
      }
    },
    {
      "cell_type": "code",
      "source": [
        "  i=1\n",
        "  while i<=10:\n",
        "    print(i)\n",
        "    i+=1"
      ],
      "metadata": {
        "colab": {
          "base_uri": "https://localhost:8080/"
        },
        "id": "M8VOzGm_AVSw",
        "outputId": "f0bfc32e-6617-4463-d4d3-ada8dfb39245"
      },
      "execution_count": 3,
      "outputs": [
        {
          "output_type": "stream",
          "name": "stdout",
          "text": [
            "1\n",
            "2\n",
            "3\n",
            "4\n",
            "5\n",
            "6\n",
            "7\n",
            "8\n",
            "9\n",
            "10\n"
          ]
        }
      ]
    },
    {
      "cell_type": "markdown",
      "source": [
        "Problem Statement:\n",
        "You work in XYZ Corporation as a Data Analyst. Your company has told you to\n",
        "work with the looping statements.\n",
        "Tasks To Be Performed:\n",
        "1. Create a list that has 10, 23, 4, 26, 4, 75, 24, 54 values and with the help\n",
        "of while loop fetch the even numbers and print the numbers."
      ],
      "metadata": {
        "id": "y3RyLCVBBAM1"
      }
    },
    {
      "cell_type": "code",
      "source": [
        "  list=[10,23,4,26,4,75,24,54]\n",
        "  i=0\n",
        "  while i<len(list):\n",
        "    if list[i]%2==0:\n",
        "      print(list[i])\n",
        "    i+=1\n",
        ""
      ],
      "metadata": {
        "colab": {
          "base_uri": "https://localhost:8080/"
        },
        "id": "j4UmEm4CA-3O",
        "outputId": "97be7afe-7933-46a1-ad68-ba1446b6d138"
      },
      "execution_count": 4,
      "outputs": [
        {
          "output_type": "stream",
          "name": "stdout",
          "text": [
            "10\n",
            "4\n",
            "26\n",
            "4\n",
            "24\n",
            "54\n"
          ]
        }
      ]
    },
    {
      "cell_type": "markdown",
      "source": [
        "Problem Statement:\n",
        "You work in XYZ Corporation as a Data Analyst. Your company has told you to\n",
        "work with the looping statements.\n",
        "Tasks To Be Performed:\n",
        "1. Create an array that has user defined inputs and with the help of for loop,\n",
        "fetch all the prime numbers and print the numbers"
      ],
      "metadata": {
        "id": "0WjYFSwhBNTe"
      }
    },
    {
      "cell_type": "code",
      "source": [
        "  list=[]\n",
        "  n=int(input(\"enter the number of elements\"))\n",
        "  for i in range(n):\n",
        "    num=int(input(\"enter the number\"))\n",
        "    list.append(num)\n",
        "    for j in list:\n",
        "      if j>1:\n",
        "        for i in range(2,j):\n",
        "          if j%i==0:\n",
        "            break\n",
        "          else:\n",
        "            print(j)\n",
        "            break\n"
      ],
      "metadata": {
        "colab": {
          "base_uri": "https://localhost:8080/"
        },
        "id": "WL7S5lYbBLcf",
        "outputId": "9963102c-b490-46d6-8cd4-ef1d6f009969"
      },
      "execution_count": 6,
      "outputs": [
        {
          "output_type": "stream",
          "name": "stdout",
          "text": [
            "enter the number of elements4\n",
            "enter the number10\n",
            "enter the number30\n",
            "enter the number59\n",
            "59\n",
            "enter the number41\n",
            "59\n",
            "41\n"
          ]
        }
      ]
    },
    {
      "cell_type": "markdown",
      "source": [
        "Problem Statement:\n",
        "Consider yourself to be Sam who is a data scientist. He has been invited as a\n",
        "guest lecturer at a college to take an introductory session on Python.\n",
        "Tasks To Be Performed:\n",
        "1. Create a list containing squares of numbers from 1 to 10 (HINT: use List\n",
        "Comprehension)."
      ],
      "metadata": {
        "id": "5KqYAaxWBuZt"
      }
    },
    {
      "cell_type": "code",
      "source": [
        "  list=[i**2 for i in range(1,11)]\n",
        "  print(list)"
      ],
      "metadata": {
        "colab": {
          "base_uri": "https://localhost:8080/"
        },
        "id": "VkTs-B4LBX26",
        "outputId": "ce32a6ad-b5f8-4bc3-ae95-a34f72d07eb7"
      },
      "execution_count": 7,
      "outputs": [
        {
          "output_type": "stream",
          "name": "stdout",
          "text": [
            "[1, 4, 9, 16, 25, 36, 49, 64, 81, 100]\n"
          ]
        }
      ]
    },
    {
      "cell_type": "markdown",
      "source": [
        "2. Write a function to check if the year number is a leap year."
      ],
      "metadata": {
        "id": "yqRjo4yfB8_y"
      }
    },
    {
      "cell_type": "code",
      "source": [
        "  def is_leap_year(year):\n",
        "    if year%4==0:\n",
        "      if year%100==0:\n",
        "        if year%400==0:\n",
        "          return True\n",
        "        else:\n",
        "          return False\n",
        "\n",
        "year = input(\"Enter a year: \")\n",
        "if is_leap_year(int(year)):\n",
        "    print(f\"{year} is a leap year.\")\n",
        "else:\n",
        "    print(f\"{year} is not a leap year.\")"
      ],
      "metadata": {
        "colab": {
          "base_uri": "https://localhost:8080/"
        },
        "id": "qn8o5U4YB6gT",
        "outputId": "be1a4585-a5d6-4406-806a-a604c8226496"
      },
      "execution_count": 9,
      "outputs": [
        {
          "output_type": "stream",
          "name": "stdout",
          "text": [
            "Enter a year: 2024\n",
            "2024 is not a leap year.\n"
          ]
        }
      ]
    },
    {
      "cell_type": "markdown",
      "source": [
        "3. Write a function to take an array and return another array that contains the\n",
        "members of the first array that are even."
      ],
      "metadata": {
        "id": "JO9lNcSOCYHO"
      }
    },
    {
      "cell_type": "code",
      "source": [
        "  def even_numbers(arr):\n",
        "    even=[]\n",
        "    for i in arr:\n",
        "      if i%2==0:\n",
        "        even.append(i)\n",
        "    return even\n",
        "\n",
        "arr = [1, 2, 3, 4, 5, 6, 7, 8, 9, 10]\n",
        "even_arr = even_numbers(arr)\n",
        "print(\"Even numbers:\", even_arr)"
      ],
      "metadata": {
        "colab": {
          "base_uri": "https://localhost:8080/"
        },
        "id": "Hh0Ma_-XCNCp",
        "outputId": "516b4004-957c-4849-c8de-583a18d76e4b"
      },
      "execution_count": 10,
      "outputs": [
        {
          "output_type": "stream",
          "name": "stdout",
          "text": [
            "Even numbers: [2, 4, 6, 8, 10]\n"
          ]
        }
      ]
    },
    {
      "cell_type": "markdown",
      "source": [
        "4. Write a function that takes 2 arrays and prints the members of the first\n",
        "array that are present in the second array. (HINT: use Membership\n",
        "Comprehension)"
      ],
      "metadata": {
        "id": "93xngGn0ClcS"
      }
    },
    {
      "cell_type": "code",
      "source": [
        "  def common_elements(arr1, arr2):\n",
        "    common = [x for x in arr1 if x in arr2]\n",
        "    return common\n",
        "\n",
        "arr1 = [1, 2, 3, 4, 5]\n",
        "arr2 = [3, 4, 5, 6, 7]\n",
        "common_arr = common_elements(arr1, arr2)\n",
        "print(\"Common elements:\", common_arr)"
      ],
      "metadata": {
        "colab": {
          "base_uri": "https://localhost:8080/"
        },
        "id": "9b8PgY7fCkLi",
        "outputId": "a67a4f4f-e1e3-401f-b2cc-d8670ac958ac"
      },
      "execution_count": 11,
      "outputs": [
        {
          "output_type": "stream",
          "name": "stdout",
          "text": [
            "Common elements: [3, 4, 5]\n"
          ]
        }
      ]
    },
    {
      "cell_type": "markdown",
      "source": [
        "Problem Statement:\n",
        "Consider yourself to be Sam who is a data scientist. He has been invited as a\n",
        "guest lecturer at a college to take an introductory session on Python.\n",
        "Tasks To Be Performed:\n",
        "1. Create 1st tuple with values -> (10, 20, 30), 2nd tuple with values -> (40,\n",
        "50, 60):\n",
        "a. Concatenate the two tuples and store it in “t_combine”\n",
        "b. Repeat the elements of “t_combine” 3 times\n",
        "c. Access the 3rd element from “t_combine”\n",
        "d. Access the first three elements from “t_combine”\n",
        "e. Access the last three elements from “t_combine”"
      ],
      "metadata": {
        "id": "wZhMwmxtESZ-"
      }
    },
    {
      "cell_type": "code",
      "source": [
        "  t1=(10,20,30)\n",
        "  t2=(40,50,60)\n",
        "  t_combine=t1+t2\n",
        "  print(t_combine)\n",
        "\n",
        "  t_combine=t_combine*3\n",
        "  print(t_combine)\n",
        "  print(t_combine[2])\n",
        "  print(t_combine[:3])\n",
        "  print(t_combine[-3:])"
      ],
      "metadata": {
        "colab": {
          "base_uri": "https://localhost:8080/"
        },
        "id": "5aRy7dx0DBu_",
        "outputId": "8de682f0-8cd8-4fd0-915c-2d4dde0cc40b"
      },
      "execution_count": 12,
      "outputs": [
        {
          "output_type": "stream",
          "name": "stdout",
          "text": [
            "(10, 20, 30, 40, 50, 60)\n",
            "(10, 20, 30, 40, 50, 60, 10, 20, 30, 40, 50, 60, 10, 20, 30, 40, 50, 60)\n",
            "30\n",
            "(10, 20, 30)\n",
            "(40, 50, 60)\n"
          ]
        }
      ]
    },
    {
      "cell_type": "markdown",
      "source": [
        "2. Create a list ‘my_list’ with these elements:\n",
        "a. First element is a tuple with values 1, 2, 3\n",
        "b. Second element is a tuple with values “a”, “b”, “c”\n",
        "c. Third element is a tuple with values True, False"
      ],
      "metadata": {
        "id": "GpwdR0a5EpwO"
      }
    },
    {
      "cell_type": "code",
      "source": [
        "  my_list=[(1,2,3),(\"a\",\"b\",\"c\"),(True,False)]\n",
        "  print(my_list)\n"
      ],
      "metadata": {
        "colab": {
          "base_uri": "https://localhost:8080/"
        },
        "id": "Jv7dxtXHEoIF",
        "outputId": "a7375612-949c-433a-8992-e32459c9563f"
      },
      "execution_count": 13,
      "outputs": [
        {
          "output_type": "stream",
          "name": "stdout",
          "text": [
            "[(1, 2, 3), ('a', 'b', 'c'), (True, False)]\n"
          ]
        }
      ]
    },
    {
      "cell_type": "markdown",
      "source": [
        "Append a new tuple – (1, ‘a’, True) to ‘my_list’:\n",
        "a. Append a new list – *“sparta”, 123+ to my_list"
      ],
      "metadata": {
        "id": "qGioEcNJE-Xk"
      }
    },
    {
      "cell_type": "code",
      "source": [
        "  my_list.append((1,\"a\",True))\n",
        "  my_list.append([\"sparta\",123])\n",
        "  print(my_list)"
      ],
      "metadata": {
        "colab": {
          "base_uri": "https://localhost:8080/"
        },
        "id": "uCJBBwdXE6kW",
        "outputId": "3f8da6a5-5708-490e-83e4-eaabd6b83b6c"
      },
      "execution_count": 14,
      "outputs": [
        {
          "output_type": "stream",
          "name": "stdout",
          "text": [
            "[(1, 2, 3), ('a', 'b', 'c'), (True, False), (1, 'a', True), ['sparta', 123]]\n"
          ]
        }
      ]
    },
    {
      "cell_type": "markdown",
      "source": [
        "4. Create a dictionary ‘fruit’ where:\n",
        "a. The first key is ‘Fruit’ and the values are (“Apple”, “Banana”, “Mango”,\n",
        "“Guava”)\n",
        "b. The second key is ‘Cost’ and the values are (85, 54, 120, 70)\n",
        "c. Extract all the keys from ‘fruit’\n",
        "d. Extract all the values from ‘fruit’"
      ],
      "metadata": {
        "id": "Tpq8tr3IFEFM"
      }
    },
    {
      "cell_type": "code",
      "source": [
        "  fruit={\"Fruit\":(\"Apple\",\"Banana\",\"Mango\",\"Guava\"),\"Cost\":(85,54,120,70)}\n",
        "  print(fruit.keys())\n",
        "  print(fruit.values())"
      ],
      "metadata": {
        "colab": {
          "base_uri": "https://localhost:8080/"
        },
        "id": "dryABtUIFC30",
        "outputId": "223fc809-1496-43d9-e960-15cd1230a55b"
      },
      "execution_count": 15,
      "outputs": [
        {
          "output_type": "stream",
          "name": "stdout",
          "text": [
            "dict_keys(['Fruit', 'Cost'])\n",
            "dict_values([('Apple', 'Banana', 'Mango', 'Guava'), (85, 54, 120, 70)])\n"
          ]
        }
      ]
    },
    {
      "cell_type": "markdown",
      "source": [],
      "metadata": {
        "id": "6nXkMuQrFc6r"
      }
    },
    {
      "cell_type": "code",
      "source": [],
      "metadata": {
        "id": "Owigmw5zFKyu"
      },
      "execution_count": null,
      "outputs": []
    }
  ]
}